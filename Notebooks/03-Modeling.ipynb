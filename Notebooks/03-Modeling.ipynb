{
 "cells": [
  {
   "cell_type": "markdown",
   "id": "2b9e1f6b-86bd-4b19-aca2-9a3d93949991",
   "metadata": {},
   "source": [
    "## Imports"
   ]
  },
  {
   "cell_type": "code",
   "execution_count": 35,
   "id": "e20334b1-99ba-49d4-a961-b2735f69007a",
   "metadata": {},
   "outputs": [],
   "source": [
    "import numpy as np\n",
    "import pandas as pd\n",
    "import seaborn as sns\n",
    "import matplotlib.pyplot as plt\n",
    "\n",
    "from sklearn.compose import make_column_transformer, make_column_selector\n",
    "from sklearn.linear_model import LinearRegression, Ridge, Lasso\n",
    "from sklearn.ensemble import GradientBoostingRegressor\n",
    "from sklearn.metrics import mean_squared_error\n",
    "from sklearn.model_selection import train_test_split, GridSearchCV, cross_val_score\n",
    "from sklearn.pipeline import make_pipeline\n",
    "from sklearn.preprocessing import StandardScaler, OneHotEncoder\n",
    "\n",
    "import warnings\n",
    "warnings.filterwarnings('ignore')\n",
    "\n",
    "random_state=10\n",
    "\n",
    "pd.set_option(\"display.max_rows\", 100)\n",
    "pd.set_option('display.max_columns', 200)"
   ]
  },
  {
   "cell_type": "markdown",
   "id": "17b2dde7-926d-4c48-936c-a8960c1bdf40",
   "metadata": {},
   "source": [
    "-------\n",
    "#### Reading in the clean train data"
   ]
  },
  {
   "cell_type": "code",
   "execution_count": 2,
   "id": "161ab299-a084-4e46-9760-a956c0befafe",
   "metadata": {},
   "outputs": [],
   "source": [
    "df_train = pd.read_csv(\"../datasets/train_clean.csv\")"
   ]
  },
  {
   "cell_type": "markdown",
   "id": "70c13080-9c2a-437b-974c-f6e9c3c3baf4",
   "metadata": {},
   "source": [
    "#### Dropping rows with outliers"
   ]
  },
  {
   "cell_type": "code",
   "execution_count": 3,
   "id": "bc71d88b-70cf-4c25-adf2-0aa06ed9159d",
   "metadata": {},
   "outputs": [],
   "source": [
    "df_train = df_train[df_train['Gr Liv Area'] <= 4000] #Removes 2 rows\n",
    "df_train = df_train[df_train['Wood Deck SF'] <= 1000] #Removes 1 row\n",
    "df_train = df_train[df_train['Mas Vnr Area'] <= 1400] #Removes 1 row\n",
    "df_train = df_train.drop(df_train[(df_train['Overall Qual'] >= 9)&(df_train['SalePrice'] < 200000) ].index) #Removes 1 row\n",
    "df_train = df_train.drop(df_train[(df_train['Overall Qual'] <= 6)&(df_train['SalePrice'] > 400000) ].index) #Removes 1 row"
   ]
  },
  {
   "cell_type": "code",
   "execution_count": 4,
   "id": "4695eb10-3c0f-41c7-a0b7-e6c958c0d959",
   "metadata": {},
   "outputs": [
    {
     "data": {
      "text/html": [
       "<div>\n",
       "<style scoped>\n",
       "    .dataframe tbody tr th:only-of-type {\n",
       "        vertical-align: middle;\n",
       "    }\n",
       "\n",
       "    .dataframe tbody tr th {\n",
       "        vertical-align: top;\n",
       "    }\n",
       "\n",
       "    .dataframe thead th {\n",
       "        text-align: right;\n",
       "    }\n",
       "</style>\n",
       "<table border=\"1\" class=\"dataframe\">\n",
       "  <thead>\n",
       "    <tr style=\"text-align: right;\">\n",
       "      <th></th>\n",
       "      <th>Id</th>\n",
       "      <th>PID</th>\n",
       "      <th>MS SubClass</th>\n",
       "      <th>MS Zoning</th>\n",
       "      <th>Lot Frontage</th>\n",
       "      <th>Lot Area</th>\n",
       "      <th>Street</th>\n",
       "      <th>Alley</th>\n",
       "      <th>Lot Shape</th>\n",
       "      <th>Land Contour</th>\n",
       "      <th>Utilities</th>\n",
       "      <th>Lot Config</th>\n",
       "      <th>Land Slope</th>\n",
       "      <th>Neighborhood</th>\n",
       "      <th>Condition 1</th>\n",
       "      <th>Condition 2</th>\n",
       "      <th>Bldg Type</th>\n",
       "      <th>House Style</th>\n",
       "      <th>Overall Qual</th>\n",
       "      <th>Overall Cond</th>\n",
       "      <th>Year Built</th>\n",
       "      <th>Year Remod/Add</th>\n",
       "      <th>Roof Style</th>\n",
       "      <th>Roof Matl</th>\n",
       "      <th>Exterior 1st</th>\n",
       "      <th>Exterior 2nd</th>\n",
       "      <th>Mas Vnr Type</th>\n",
       "      <th>Mas Vnr Area</th>\n",
       "      <th>Exter Qual</th>\n",
       "      <th>Exter Cond</th>\n",
       "      <th>Foundation</th>\n",
       "      <th>Bsmt Qual</th>\n",
       "      <th>Bsmt Cond</th>\n",
       "      <th>Bsmt Exposure</th>\n",
       "      <th>BsmtFin Type 1</th>\n",
       "      <th>BsmtFin SF 1</th>\n",
       "      <th>BsmtFin Type 2</th>\n",
       "      <th>BsmtFin SF 2</th>\n",
       "      <th>Bsmt Unf SF</th>\n",
       "      <th>Total Bsmt SF</th>\n",
       "      <th>Heating</th>\n",
       "      <th>Heating QC</th>\n",
       "      <th>Central Air</th>\n",
       "      <th>Electrical</th>\n",
       "      <th>1st Flr SF</th>\n",
       "      <th>2nd Flr SF</th>\n",
       "      <th>Low Qual Fin SF</th>\n",
       "      <th>Gr Liv Area</th>\n",
       "      <th>Bsmt Full Bath</th>\n",
       "      <th>Bsmt Half Bath</th>\n",
       "      <th>Full Bath</th>\n",
       "      <th>Half Bath</th>\n",
       "      <th>Bedroom AbvGr</th>\n",
       "      <th>Kitchen AbvGr</th>\n",
       "      <th>Kitchen Qual</th>\n",
       "      <th>TotRms AbvGrd</th>\n",
       "      <th>Functional</th>\n",
       "      <th>Fireplaces</th>\n",
       "      <th>Fireplace Qu</th>\n",
       "      <th>Garage Type</th>\n",
       "      <th>Garage Yr Blt</th>\n",
       "      <th>Garage Finish</th>\n",
       "      <th>Garage Cars</th>\n",
       "      <th>Garage Area</th>\n",
       "      <th>Garage Qual</th>\n",
       "      <th>Garage Cond</th>\n",
       "      <th>Paved Drive</th>\n",
       "      <th>Wood Deck SF</th>\n",
       "      <th>Open Porch SF</th>\n",
       "      <th>Enclosed Porch</th>\n",
       "      <th>3Ssn Porch</th>\n",
       "      <th>Screen Porch</th>\n",
       "      <th>Pool Area</th>\n",
       "      <th>Pool QC</th>\n",
       "      <th>Fence</th>\n",
       "      <th>Misc Feature</th>\n",
       "      <th>Misc Val</th>\n",
       "      <th>Mo Sold</th>\n",
       "      <th>Yr Sold</th>\n",
       "      <th>Sale Type</th>\n",
       "      <th>SalePrice</th>\n",
       "    </tr>\n",
       "  </thead>\n",
       "  <tbody>\n",
       "    <tr>\n",
       "      <th>0</th>\n",
       "      <td>109</td>\n",
       "      <td>533352170</td>\n",
       "      <td>60</td>\n",
       "      <td>RL</td>\n",
       "      <td>70.0</td>\n",
       "      <td>13517</td>\n",
       "      <td>Pave</td>\n",
       "      <td>None</td>\n",
       "      <td>2</td>\n",
       "      <td>Lvl</td>\n",
       "      <td>3</td>\n",
       "      <td>CulDSac</td>\n",
       "      <td>2</td>\n",
       "      <td>Sawyer</td>\n",
       "      <td>RRAe</td>\n",
       "      <td>Norm</td>\n",
       "      <td>1Fam</td>\n",
       "      <td>2Story</td>\n",
       "      <td>6</td>\n",
       "      <td>8</td>\n",
       "      <td>1976</td>\n",
       "      <td>2005</td>\n",
       "      <td>Gable</td>\n",
       "      <td>CompShg</td>\n",
       "      <td>HdBoard</td>\n",
       "      <td>Plywood</td>\n",
       "      <td>BrkFace</td>\n",
       "      <td>289.0</td>\n",
       "      <td>4</td>\n",
       "      <td>3</td>\n",
       "      <td>CBlock</td>\n",
       "      <td>3</td>\n",
       "      <td>3</td>\n",
       "      <td>1</td>\n",
       "      <td>6</td>\n",
       "      <td>533.0</td>\n",
       "      <td>1</td>\n",
       "      <td>0.0</td>\n",
       "      <td>192.0</td>\n",
       "      <td>725.0</td>\n",
       "      <td>GasA</td>\n",
       "      <td>5</td>\n",
       "      <td>Y</td>\n",
       "      <td>4</td>\n",
       "      <td>725</td>\n",
       "      <td>754</td>\n",
       "      <td>0</td>\n",
       "      <td>1479</td>\n",
       "      <td>0.0</td>\n",
       "      <td>0.0</td>\n",
       "      <td>2</td>\n",
       "      <td>1</td>\n",
       "      <td>3</td>\n",
       "      <td>1</td>\n",
       "      <td>4</td>\n",
       "      <td>6</td>\n",
       "      <td>7</td>\n",
       "      <td>0</td>\n",
       "      <td>0</td>\n",
       "      <td>Attchd</td>\n",
       "      <td>1976.0</td>\n",
       "      <td>2</td>\n",
       "      <td>2.0</td>\n",
       "      <td>475.0</td>\n",
       "      <td>3</td>\n",
       "      <td>3</td>\n",
       "      <td>2</td>\n",
       "      <td>0</td>\n",
       "      <td>44</td>\n",
       "      <td>0</td>\n",
       "      <td>0</td>\n",
       "      <td>0</td>\n",
       "      <td>0</td>\n",
       "      <td>0</td>\n",
       "      <td>0</td>\n",
       "      <td>None</td>\n",
       "      <td>0</td>\n",
       "      <td>3</td>\n",
       "      <td>2010</td>\n",
       "      <td>WD</td>\n",
       "      <td>130500</td>\n",
       "    </tr>\n",
       "    <tr>\n",
       "      <th>1</th>\n",
       "      <td>544</td>\n",
       "      <td>531379050</td>\n",
       "      <td>60</td>\n",
       "      <td>RL</td>\n",
       "      <td>43.0</td>\n",
       "      <td>11492</td>\n",
       "      <td>Pave</td>\n",
       "      <td>None</td>\n",
       "      <td>2</td>\n",
       "      <td>Lvl</td>\n",
       "      <td>3</td>\n",
       "      <td>CulDSac</td>\n",
       "      <td>2</td>\n",
       "      <td>SawyerW</td>\n",
       "      <td>Norm</td>\n",
       "      <td>Norm</td>\n",
       "      <td>1Fam</td>\n",
       "      <td>2Story</td>\n",
       "      <td>7</td>\n",
       "      <td>5</td>\n",
       "      <td>1996</td>\n",
       "      <td>1997</td>\n",
       "      <td>Gable</td>\n",
       "      <td>CompShg</td>\n",
       "      <td>VinylSd</td>\n",
       "      <td>VinylSd</td>\n",
       "      <td>BrkFace</td>\n",
       "      <td>132.0</td>\n",
       "      <td>4</td>\n",
       "      <td>3</td>\n",
       "      <td>PConc</td>\n",
       "      <td>4</td>\n",
       "      <td>3</td>\n",
       "      <td>1</td>\n",
       "      <td>6</td>\n",
       "      <td>637.0</td>\n",
       "      <td>1</td>\n",
       "      <td>0.0</td>\n",
       "      <td>276.0</td>\n",
       "      <td>913.0</td>\n",
       "      <td>GasA</td>\n",
       "      <td>5</td>\n",
       "      <td>Y</td>\n",
       "      <td>4</td>\n",
       "      <td>913</td>\n",
       "      <td>1209</td>\n",
       "      <td>0</td>\n",
       "      <td>2122</td>\n",
       "      <td>1.0</td>\n",
       "      <td>0.0</td>\n",
       "      <td>2</td>\n",
       "      <td>1</td>\n",
       "      <td>4</td>\n",
       "      <td>1</td>\n",
       "      <td>4</td>\n",
       "      <td>8</td>\n",
       "      <td>7</td>\n",
       "      <td>1</td>\n",
       "      <td>3</td>\n",
       "      <td>Attchd</td>\n",
       "      <td>1997.0</td>\n",
       "      <td>2</td>\n",
       "      <td>2.0</td>\n",
       "      <td>559.0</td>\n",
       "      <td>3</td>\n",
       "      <td>3</td>\n",
       "      <td>2</td>\n",
       "      <td>0</td>\n",
       "      <td>74</td>\n",
       "      <td>0</td>\n",
       "      <td>0</td>\n",
       "      <td>0</td>\n",
       "      <td>0</td>\n",
       "      <td>0</td>\n",
       "      <td>0</td>\n",
       "      <td>None</td>\n",
       "      <td>0</td>\n",
       "      <td>4</td>\n",
       "      <td>2009</td>\n",
       "      <td>WD</td>\n",
       "      <td>220000</td>\n",
       "    </tr>\n",
       "    <tr>\n",
       "      <th>2</th>\n",
       "      <td>153</td>\n",
       "      <td>535304180</td>\n",
       "      <td>20</td>\n",
       "      <td>RL</td>\n",
       "      <td>68.0</td>\n",
       "      <td>7922</td>\n",
       "      <td>Pave</td>\n",
       "      <td>None</td>\n",
       "      <td>3</td>\n",
       "      <td>Lvl</td>\n",
       "      <td>3</td>\n",
       "      <td>Inside</td>\n",
       "      <td>2</td>\n",
       "      <td>NAmes</td>\n",
       "      <td>Norm</td>\n",
       "      <td>Norm</td>\n",
       "      <td>1Fam</td>\n",
       "      <td>1Story</td>\n",
       "      <td>5</td>\n",
       "      <td>7</td>\n",
       "      <td>1953</td>\n",
       "      <td>2007</td>\n",
       "      <td>Gable</td>\n",
       "      <td>CompShg</td>\n",
       "      <td>VinylSd</td>\n",
       "      <td>VinylSd</td>\n",
       "      <td>None</td>\n",
       "      <td>0.0</td>\n",
       "      <td>3</td>\n",
       "      <td>4</td>\n",
       "      <td>CBlock</td>\n",
       "      <td>3</td>\n",
       "      <td>3</td>\n",
       "      <td>1</td>\n",
       "      <td>6</td>\n",
       "      <td>731.0</td>\n",
       "      <td>1</td>\n",
       "      <td>0.0</td>\n",
       "      <td>326.0</td>\n",
       "      <td>1057.0</td>\n",
       "      <td>GasA</td>\n",
       "      <td>3</td>\n",
       "      <td>Y</td>\n",
       "      <td>4</td>\n",
       "      <td>1057</td>\n",
       "      <td>0</td>\n",
       "      <td>0</td>\n",
       "      <td>1057</td>\n",
       "      <td>1.0</td>\n",
       "      <td>0.0</td>\n",
       "      <td>1</td>\n",
       "      <td>0</td>\n",
       "      <td>3</td>\n",
       "      <td>1</td>\n",
       "      <td>4</td>\n",
       "      <td>5</td>\n",
       "      <td>7</td>\n",
       "      <td>0</td>\n",
       "      <td>0</td>\n",
       "      <td>Detchd</td>\n",
       "      <td>1953.0</td>\n",
       "      <td>1</td>\n",
       "      <td>1.0</td>\n",
       "      <td>246.0</td>\n",
       "      <td>3</td>\n",
       "      <td>3</td>\n",
       "      <td>2</td>\n",
       "      <td>0</td>\n",
       "      <td>52</td>\n",
       "      <td>0</td>\n",
       "      <td>0</td>\n",
       "      <td>0</td>\n",
       "      <td>0</td>\n",
       "      <td>0</td>\n",
       "      <td>0</td>\n",
       "      <td>None</td>\n",
       "      <td>0</td>\n",
       "      <td>1</td>\n",
       "      <td>2010</td>\n",
       "      <td>WD</td>\n",
       "      <td>109000</td>\n",
       "    </tr>\n",
       "    <tr>\n",
       "      <th>3</th>\n",
       "      <td>318</td>\n",
       "      <td>916386060</td>\n",
       "      <td>60</td>\n",
       "      <td>RL</td>\n",
       "      <td>73.0</td>\n",
       "      <td>9802</td>\n",
       "      <td>Pave</td>\n",
       "      <td>None</td>\n",
       "      <td>3</td>\n",
       "      <td>Lvl</td>\n",
       "      <td>3</td>\n",
       "      <td>Inside</td>\n",
       "      <td>2</td>\n",
       "      <td>Timber</td>\n",
       "      <td>Norm</td>\n",
       "      <td>Norm</td>\n",
       "      <td>1Fam</td>\n",
       "      <td>2Story</td>\n",
       "      <td>5</td>\n",
       "      <td>5</td>\n",
       "      <td>2006</td>\n",
       "      <td>2007</td>\n",
       "      <td>Gable</td>\n",
       "      <td>CompShg</td>\n",
       "      <td>VinylSd</td>\n",
       "      <td>VinylSd</td>\n",
       "      <td>None</td>\n",
       "      <td>0.0</td>\n",
       "      <td>3</td>\n",
       "      <td>3</td>\n",
       "      <td>PConc</td>\n",
       "      <td>4</td>\n",
       "      <td>3</td>\n",
       "      <td>1</td>\n",
       "      <td>1</td>\n",
       "      <td>0.0</td>\n",
       "      <td>1</td>\n",
       "      <td>0.0</td>\n",
       "      <td>384.0</td>\n",
       "      <td>384.0</td>\n",
       "      <td>GasA</td>\n",
       "      <td>4</td>\n",
       "      <td>Y</td>\n",
       "      <td>4</td>\n",
       "      <td>744</td>\n",
       "      <td>700</td>\n",
       "      <td>0</td>\n",
       "      <td>1444</td>\n",
       "      <td>0.0</td>\n",
       "      <td>0.0</td>\n",
       "      <td>2</td>\n",
       "      <td>1</td>\n",
       "      <td>3</td>\n",
       "      <td>1</td>\n",
       "      <td>3</td>\n",
       "      <td>7</td>\n",
       "      <td>7</td>\n",
       "      <td>0</td>\n",
       "      <td>0</td>\n",
       "      <td>BuiltIn</td>\n",
       "      <td>2007.0</td>\n",
       "      <td>3</td>\n",
       "      <td>2.0</td>\n",
       "      <td>400.0</td>\n",
       "      <td>3</td>\n",
       "      <td>3</td>\n",
       "      <td>2</td>\n",
       "      <td>100</td>\n",
       "      <td>0</td>\n",
       "      <td>0</td>\n",
       "      <td>0</td>\n",
       "      <td>0</td>\n",
       "      <td>0</td>\n",
       "      <td>0</td>\n",
       "      <td>0</td>\n",
       "      <td>None</td>\n",
       "      <td>0</td>\n",
       "      <td>4</td>\n",
       "      <td>2010</td>\n",
       "      <td>WD</td>\n",
       "      <td>174000</td>\n",
       "    </tr>\n",
       "    <tr>\n",
       "      <th>4</th>\n",
       "      <td>255</td>\n",
       "      <td>906425045</td>\n",
       "      <td>50</td>\n",
       "      <td>RL</td>\n",
       "      <td>82.0</td>\n",
       "      <td>14235</td>\n",
       "      <td>Pave</td>\n",
       "      <td>None</td>\n",
       "      <td>2</td>\n",
       "      <td>Lvl</td>\n",
       "      <td>3</td>\n",
       "      <td>Inside</td>\n",
       "      <td>2</td>\n",
       "      <td>SawyerW</td>\n",
       "      <td>Norm</td>\n",
       "      <td>Norm</td>\n",
       "      <td>1Fam</td>\n",
       "      <td>1.5Fin</td>\n",
       "      <td>6</td>\n",
       "      <td>8</td>\n",
       "      <td>1900</td>\n",
       "      <td>1993</td>\n",
       "      <td>Gable</td>\n",
       "      <td>CompShg</td>\n",
       "      <td>Wd Sdng</td>\n",
       "      <td>Plywood</td>\n",
       "      <td>None</td>\n",
       "      <td>0.0</td>\n",
       "      <td>3</td>\n",
       "      <td>3</td>\n",
       "      <td>PConc</td>\n",
       "      <td>2</td>\n",
       "      <td>4</td>\n",
       "      <td>1</td>\n",
       "      <td>1</td>\n",
       "      <td>0.0</td>\n",
       "      <td>1</td>\n",
       "      <td>0.0</td>\n",
       "      <td>676.0</td>\n",
       "      <td>676.0</td>\n",
       "      <td>GasA</td>\n",
       "      <td>3</td>\n",
       "      <td>Y</td>\n",
       "      <td>4</td>\n",
       "      <td>831</td>\n",
       "      <td>614</td>\n",
       "      <td>0</td>\n",
       "      <td>1445</td>\n",
       "      <td>0.0</td>\n",
       "      <td>0.0</td>\n",
       "      <td>2</td>\n",
       "      <td>0</td>\n",
       "      <td>3</td>\n",
       "      <td>1</td>\n",
       "      <td>3</td>\n",
       "      <td>6</td>\n",
       "      <td>7</td>\n",
       "      <td>0</td>\n",
       "      <td>0</td>\n",
       "      <td>Detchd</td>\n",
       "      <td>1957.0</td>\n",
       "      <td>1</td>\n",
       "      <td>2.0</td>\n",
       "      <td>484.0</td>\n",
       "      <td>3</td>\n",
       "      <td>3</td>\n",
       "      <td>0</td>\n",
       "      <td>0</td>\n",
       "      <td>59</td>\n",
       "      <td>0</td>\n",
       "      <td>0</td>\n",
       "      <td>0</td>\n",
       "      <td>0</td>\n",
       "      <td>0</td>\n",
       "      <td>0</td>\n",
       "      <td>None</td>\n",
       "      <td>0</td>\n",
       "      <td>3</td>\n",
       "      <td>2010</td>\n",
       "      <td>WD</td>\n",
       "      <td>138500</td>\n",
       "    </tr>\n",
       "  </tbody>\n",
       "</table>\n",
       "</div>"
      ],
      "text/plain": [
       "    Id        PID  MS SubClass MS Zoning  Lot Frontage  Lot Area Street Alley  \\\n",
       "0  109  533352170           60        RL          70.0     13517   Pave  None   \n",
       "1  544  531379050           60        RL          43.0     11492   Pave  None   \n",
       "2  153  535304180           20        RL          68.0      7922   Pave  None   \n",
       "3  318  916386060           60        RL          73.0      9802   Pave  None   \n",
       "4  255  906425045           50        RL          82.0     14235   Pave  None   \n",
       "\n",
       "   Lot Shape Land Contour  Utilities Lot Config  Land Slope Neighborhood  \\\n",
       "0          2          Lvl          3    CulDSac           2       Sawyer   \n",
       "1          2          Lvl          3    CulDSac           2      SawyerW   \n",
       "2          3          Lvl          3     Inside           2        NAmes   \n",
       "3          3          Lvl          3     Inside           2       Timber   \n",
       "4          2          Lvl          3     Inside           2      SawyerW   \n",
       "\n",
       "  Condition 1 Condition 2 Bldg Type House Style  Overall Qual  Overall Cond  \\\n",
       "0        RRAe        Norm      1Fam      2Story             6             8   \n",
       "1        Norm        Norm      1Fam      2Story             7             5   \n",
       "2        Norm        Norm      1Fam      1Story             5             7   \n",
       "3        Norm        Norm      1Fam      2Story             5             5   \n",
       "4        Norm        Norm      1Fam      1.5Fin             6             8   \n",
       "\n",
       "   Year Built  Year Remod/Add Roof Style Roof Matl Exterior 1st Exterior 2nd  \\\n",
       "0        1976            2005      Gable   CompShg      HdBoard      Plywood   \n",
       "1        1996            1997      Gable   CompShg      VinylSd      VinylSd   \n",
       "2        1953            2007      Gable   CompShg      VinylSd      VinylSd   \n",
       "3        2006            2007      Gable   CompShg      VinylSd      VinylSd   \n",
       "4        1900            1993      Gable   CompShg      Wd Sdng      Plywood   \n",
       "\n",
       "  Mas Vnr Type  Mas Vnr Area  Exter Qual  Exter Cond Foundation  Bsmt Qual  \\\n",
       "0      BrkFace         289.0           4           3     CBlock          3   \n",
       "1      BrkFace         132.0           4           3      PConc          4   \n",
       "2         None           0.0           3           4     CBlock          3   \n",
       "3         None           0.0           3           3      PConc          4   \n",
       "4         None           0.0           3           3      PConc          2   \n",
       "\n",
       "   Bsmt Cond  Bsmt Exposure  BsmtFin Type 1  BsmtFin SF 1  BsmtFin Type 2  \\\n",
       "0          3              1               6         533.0               1   \n",
       "1          3              1               6         637.0               1   \n",
       "2          3              1               6         731.0               1   \n",
       "3          3              1               1           0.0               1   \n",
       "4          4              1               1           0.0               1   \n",
       "\n",
       "   BsmtFin SF 2  Bsmt Unf SF  Total Bsmt SF Heating  Heating QC Central Air  \\\n",
       "0           0.0        192.0          725.0    GasA           5           Y   \n",
       "1           0.0        276.0          913.0    GasA           5           Y   \n",
       "2           0.0        326.0         1057.0    GasA           3           Y   \n",
       "3           0.0        384.0          384.0    GasA           4           Y   \n",
       "4           0.0        676.0          676.0    GasA           3           Y   \n",
       "\n",
       "   Electrical  1st Flr SF  2nd Flr SF  Low Qual Fin SF  Gr Liv Area  \\\n",
       "0           4         725         754                0         1479   \n",
       "1           4         913        1209                0         2122   \n",
       "2           4        1057           0                0         1057   \n",
       "3           4         744         700                0         1444   \n",
       "4           4         831         614                0         1445   \n",
       "\n",
       "   Bsmt Full Bath  Bsmt Half Bath  Full Bath  Half Bath  Bedroom AbvGr  \\\n",
       "0             0.0             0.0          2          1              3   \n",
       "1             1.0             0.0          2          1              4   \n",
       "2             1.0             0.0          1          0              3   \n",
       "3             0.0             0.0          2          1              3   \n",
       "4             0.0             0.0          2          0              3   \n",
       "\n",
       "   Kitchen AbvGr  Kitchen Qual  TotRms AbvGrd  Functional  Fireplaces  \\\n",
       "0              1             4              6           7           0   \n",
       "1              1             4              8           7           1   \n",
       "2              1             4              5           7           0   \n",
       "3              1             3              7           7           0   \n",
       "4              1             3              6           7           0   \n",
       "\n",
       "   Fireplace Qu Garage Type  Garage Yr Blt  Garage Finish  Garage Cars  \\\n",
       "0             0      Attchd         1976.0              2          2.0   \n",
       "1             3      Attchd         1997.0              2          2.0   \n",
       "2             0      Detchd         1953.0              1          1.0   \n",
       "3             0     BuiltIn         2007.0              3          2.0   \n",
       "4             0      Detchd         1957.0              1          2.0   \n",
       "\n",
       "   Garage Area  Garage Qual  Garage Cond  Paved Drive  Wood Deck SF  \\\n",
       "0        475.0            3            3            2             0   \n",
       "1        559.0            3            3            2             0   \n",
       "2        246.0            3            3            2             0   \n",
       "3        400.0            3            3            2           100   \n",
       "4        484.0            3            3            0             0   \n",
       "\n",
       "   Open Porch SF  Enclosed Porch  3Ssn Porch  Screen Porch  Pool Area  \\\n",
       "0             44               0           0             0          0   \n",
       "1             74               0           0             0          0   \n",
       "2             52               0           0             0          0   \n",
       "3              0               0           0             0          0   \n",
       "4             59               0           0             0          0   \n",
       "\n",
       "   Pool QC  Fence Misc Feature  Misc Val  Mo Sold  Yr Sold Sale Type  \\\n",
       "0        0      0         None         0        3     2010       WD    \n",
       "1        0      0         None         0        4     2009       WD    \n",
       "2        0      0         None         0        1     2010       WD    \n",
       "3        0      0         None         0        4     2010       WD    \n",
       "4        0      0         None         0        3     2010       WD    \n",
       "\n",
       "   SalePrice  \n",
       "0     130500  \n",
       "1     220000  \n",
       "2     109000  \n",
       "3     174000  \n",
       "4     138500  "
      ]
     },
     "execution_count": 4,
     "metadata": {},
     "output_type": "execute_result"
    }
   ],
   "source": [
    "df_train.head()"
   ]
  },
  {
   "cell_type": "code",
   "execution_count": 5,
   "id": "39757795-838b-4f65-ac96-34c9586635ac",
   "metadata": {},
   "outputs": [],
   "source": [
    "df_train.dropna(inplace=True)"
   ]
  },
  {
   "cell_type": "markdown",
   "id": "783e6c77-d033-41f0-bab7-a5ca3d577bf1",
   "metadata": {},
   "source": [
    "-----"
   ]
  },
  {
   "cell_type": "markdown",
   "id": "27c4926c-5a60-4634-9fba-3c97028f67ff",
   "metadata": {},
   "source": [
    "## Fitting mutiple models"
   ]
  },
  {
   "cell_type": "code",
   "execution_count": 6,
   "id": "d4ce84cb-c170-4331-b277-bb518dc51415",
   "metadata": {},
   "outputs": [],
   "source": [
    "X = df_train.drop(columns=[\"SalePrice\", \"Id\", \"PID\"])\n",
    "y = df_train[\"SalePrice\"]\n",
    "\n",
    "X_train, X_test, y_train, y_test = train_test_split(X, y)"
   ]
  },
  {
   "cell_type": "code",
   "execution_count": 7,
   "id": "51f5b622-055a-4634-a882-f9814d84fd2a",
   "metadata": {},
   "outputs": [],
   "source": [
    "ct = make_column_transformer(\n",
    "    (OneHotEncoder(handle_unknown='ignore'),\n",
    "    make_column_selector(dtype_include=object)),\n",
    "    remainder='passthrough'\n",
    ")"
   ]
  },
  {
   "cell_type": "markdown",
   "id": "615fe6fb-5eb9-423d-9206-a71d5075b28a",
   "metadata": {},
   "source": [
    "----------\n",
    "# Linear Regression"
   ]
  },
  {
   "cell_type": "code",
   "execution_count": 86,
   "id": "fd9c5735-80e8-40f7-8324-c65324da353e",
   "metadata": {},
   "outputs": [
    {
     "data": {
      "text/plain": [
       "0.9352159128313563"
      ]
     },
     "execution_count": 86,
     "metadata": {},
     "output_type": "execute_result"
    }
   ],
   "source": [
    "pipe = make_pipeline(\n",
    "\n",
    "    ct,\n",
    "    LinearRegression()\n",
    "    \n",
    ")\n",
    "pipe.fit(X_train, y_train)\n",
    "pipe.score(X_train, y_train)"
   ]
  },
  {
   "cell_type": "code",
   "execution_count": 87,
   "id": "21ce2ab3-2b29-4c8c-bcf4-e781bfceb73b",
   "metadata": {},
   "outputs": [
    {
     "data": {
      "text/plain": [
       "0.9139317087558679"
      ]
     },
     "execution_count": 87,
     "metadata": {},
     "output_type": "execute_result"
    }
   ],
   "source": [
    "pipe.score(X_test, y_test)"
   ]
  },
  {
   "cell_type": "code",
   "execution_count": 88,
   "id": "981162c0-0cd6-4bb3-8cbc-97a9a0aa064a",
   "metadata": {},
   "outputs": [
    {
     "data": {
      "text/plain": [
       "23218.504943171174"
      ]
     },
     "execution_count": 88,
     "metadata": {},
     "output_type": "execute_result"
    }
   ],
   "source": [
    "mean_squared_error(y_test, pipe.predict(X_test), squared= False)"
   ]
  },
  {
   "cell_type": "code",
   "execution_count": 89,
   "id": "6fd3d02f-6a2b-4cce-b049-de6cacc51f70",
   "metadata": {},
   "outputs": [
    {
     "data": {
      "text/plain": [
       "0.9093940124762506"
      ]
     },
     "execution_count": 89,
     "metadata": {},
     "output_type": "execute_result"
    }
   ],
   "source": [
    "cross_val_score(pipe, X, y, cv=5).mean()"
   ]
  },
  {
   "cell_type": "markdown",
   "id": "c5b31d14-4367-4500-a6f8-8d41d6e900b9",
   "metadata": {},
   "source": [
    "----\n",
    "# Lasso Regression"
   ]
  },
  {
   "cell_type": "code",
   "execution_count": 62,
   "id": "3324a90e-714c-4fed-8a35-d0cdfbeafc56",
   "metadata": {},
   "outputs": [
    {
     "data": {
      "text/plain": [
       "0.9352612678701413"
      ]
     },
     "execution_count": 62,
     "metadata": {},
     "output_type": "execute_result"
    }
   ],
   "source": [
    "pipe = make_pipeline(\n",
    "\n",
    "    ct,\n",
    "    StandardScaler(),\n",
    "    Lasso()\n",
    "    \n",
    ")\n",
    "pipe.fit(X_train, y_train)\n",
    "pipe.score(X_train, y_train)"
   ]
  },
  {
   "cell_type": "code",
   "execution_count": 63,
   "id": "e31a6c5b-cb21-4b03-98b9-edd9a53e3301",
   "metadata": {},
   "outputs": [
    {
     "data": {
      "text/plain": [
       "0.9139328553542274"
      ]
     },
     "execution_count": 63,
     "metadata": {},
     "output_type": "execute_result"
    }
   ],
   "source": [
    "pipe.score(X_test, y_test)"
   ]
  },
  {
   "cell_type": "code",
   "execution_count": 64,
   "id": "69cc203c-b312-4ccf-a5ea-1db7e0316064",
   "metadata": {},
   "outputs": [
    {
     "data": {
      "text/plain": [
       "23218.350284655484"
      ]
     },
     "execution_count": 64,
     "metadata": {},
     "output_type": "execute_result"
    }
   ],
   "source": [
    "mean_squared_error(y_test, pipe.predict(X_test), squared= False)"
   ]
  },
  {
   "cell_type": "code",
   "execution_count": 65,
   "id": "39ff4b4d-2774-48fb-a867-96ce6e3af355",
   "metadata": {},
   "outputs": [
    {
     "data": {
      "text/plain": [
       "0.9096355276074345"
      ]
     },
     "execution_count": 65,
     "metadata": {},
     "output_type": "execute_result"
    }
   ],
   "source": [
    "cross_val_score(pipe, X, y, cv=5).mean()"
   ]
  },
  {
   "cell_type": "markdown",
   "id": "b3bd9b0c-9e1b-4e07-81bb-b0f3e0d52f98",
   "metadata": {
    "tags": []
   },
   "source": [
    "-----\n",
    "#### Finetuning the parameters"
   ]
  },
  {
   "cell_type": "code",
   "execution_count": 66,
   "id": "6f68d474-9333-4661-a61a-6491eae0f7a5",
   "metadata": {},
   "outputs": [],
   "source": [
    "params = {\n",
    "    'lasso__alpha' : [1, 10, 20, 30],\n",
    "    'lasso__fit_intercept': [True,False],\n",
    "    'lasso__max_iter' : [250, 500, 1000, 2000], \n",
    "    'lasso__normalize' : [True, False], \n",
    "    'lasso__positive' : [True, False]\n",
    "}"
   ]
  },
  {
   "cell_type": "code",
   "execution_count": 67,
   "id": "ff57d50e-ec82-4037-bce0-3614b55b0423",
   "metadata": {},
   "outputs": [
    {
     "data": {
      "text/plain": [
       "{'lasso__alpha': 10,\n",
       " 'lasso__fit_intercept': True,\n",
       " 'lasso__max_iter': 250,\n",
       " 'lasso__normalize': True,\n",
       " 'lasso__positive': True}"
      ]
     },
     "execution_count": 67,
     "metadata": {},
     "output_type": "execute_result"
    }
   ],
   "source": [
    "gs = GridSearchCV(pipe,params, n_jobs=-1)\n",
    "gs.fit(X_train, y_train)\n",
    "gs.best_params_"
   ]
  },
  {
   "cell_type": "code",
   "execution_count": 68,
   "id": "f55cdfb4-3b90-48f9-8280-575e0010a08a",
   "metadata": {},
   "outputs": [
    {
     "data": {
      "text/plain": [
       "0.9268258581552213"
      ]
     },
     "execution_count": 68,
     "metadata": {},
     "output_type": "execute_result"
    }
   ],
   "source": [
    "gs.score(X_train, y_train)"
   ]
  },
  {
   "cell_type": "code",
   "execution_count": 69,
   "id": "46e86264-cfcb-4851-ab4b-5e9bf004f436",
   "metadata": {},
   "outputs": [
    {
     "data": {
      "text/plain": [
       "0.9190851650294521"
      ]
     },
     "execution_count": 69,
     "metadata": {},
     "output_type": "execute_result"
    }
   ],
   "source": [
    "gs.score(X_test, y_test)"
   ]
  },
  {
   "cell_type": "code",
   "execution_count": 70,
   "id": "7c6c5ded-3969-45fb-adf0-605c12bf59ae",
   "metadata": {},
   "outputs": [
    {
     "data": {
      "text/plain": [
       "22512.656127518923"
      ]
     },
     "execution_count": 70,
     "metadata": {},
     "output_type": "execute_result"
    }
   ],
   "source": [
    "mean_squared_error(y_test, gs.predict(X_test), squared= False)"
   ]
  },
  {
   "cell_type": "code",
   "execution_count": 71,
   "id": "bd84803f-b6a2-419f-b958-45c54566d213",
   "metadata": {},
   "outputs": [
    {
     "data": {
      "text/plain": [
       "0.913603657889437"
      ]
     },
     "execution_count": 71,
     "metadata": {},
     "output_type": "execute_result"
    }
   ],
   "source": [
    "cross_val_score(gs, X, y, cv=5).mean()"
   ]
  },
  {
   "cell_type": "markdown",
   "id": "3ac4d759-8158-45b9-8cc4-0b7a7e9d99f3",
   "metadata": {},
   "source": [
    "-----\n",
    "# Ridge Regression"
   ]
  },
  {
   "cell_type": "code",
   "execution_count": 72,
   "id": "6d2d02ac-e99d-425e-9fdb-68b20fa2184e",
   "metadata": {},
   "outputs": [
    {
     "data": {
      "text/plain": [
       "0.9352604075595708"
      ]
     },
     "execution_count": 72,
     "metadata": {},
     "output_type": "execute_result"
    }
   ],
   "source": [
    "pipe = make_pipeline(\n",
    "\n",
    "    ct,\n",
    "    StandardScaler(),\n",
    "    Ridge()\n",
    "    \n",
    ")\n",
    "pipe.fit(X_train, y_train)\n",
    "pipe.score(X_train, y_train)"
   ]
  },
  {
   "cell_type": "code",
   "execution_count": 73,
   "id": "e958dd00-0e7a-4996-8971-91d694549db1",
   "metadata": {},
   "outputs": [
    {
     "data": {
      "text/plain": [
       "0.9139851139803079"
      ]
     },
     "execution_count": 73,
     "metadata": {},
     "output_type": "execute_result"
    }
   ],
   "source": [
    "pipe.score(X_test, y_test)"
   ]
  },
  {
   "cell_type": "code",
   "execution_count": 74,
   "id": "50bfa9f1-a3f2-4b5d-808c-bd8cf812b9e4",
   "metadata": {},
   "outputs": [
    {
     "data": {
      "text/plain": [
       "23211.30030449269"
      ]
     },
     "execution_count": 74,
     "metadata": {},
     "output_type": "execute_result"
    }
   ],
   "source": [
    "mean_squared_error(y_test, pipe.predict(X_test), squared= False)"
   ]
  },
  {
   "cell_type": "code",
   "execution_count": 75,
   "id": "61016813-d386-430e-8ed4-4a1c13a41589",
   "metadata": {},
   "outputs": [
    {
     "data": {
      "text/plain": [
       "0.9098632114343449"
      ]
     },
     "execution_count": 75,
     "metadata": {},
     "output_type": "execute_result"
    }
   ],
   "source": [
    "cross_val_score(pipe, X, y, cv=5).mean()"
   ]
  },
  {
   "cell_type": "markdown",
   "id": "f248a817-e408-4289-bc08-675efd920c9e",
   "metadata": {
    "tags": []
   },
   "source": [
    "-----\n",
    "#### Finetuning the parameters"
   ]
  },
  {
   "cell_type": "code",
   "execution_count": 76,
   "id": "33253be3-31ba-460d-99e2-74d5b1b1aa76",
   "metadata": {},
   "outputs": [],
   "source": [
    "params = {\n",
    "    'ridge__alpha' : [.001, .01, .1, 1, 10, 50],\n",
    "    'ridge__fit_intercept': [True,False],\n",
    "    'ridge__max_iter' : [250, 500, 1000, 2000], \n",
    "    'ridge__normalize' : [True, False], \n",
    "    'ridge__positive' : [True, False]\n",
    "}"
   ]
  },
  {
   "cell_type": "code",
   "execution_count": 77,
   "id": "a49a7708-4a1f-4774-9a7f-9b0e65e81c76",
   "metadata": {},
   "outputs": [
    {
     "data": {
      "text/plain": [
       "{'ridge__alpha': 0.1,\n",
       " 'ridge__fit_intercept': True,\n",
       " 'ridge__max_iter': 250,\n",
       " 'ridge__normalize': True,\n",
       " 'ridge__positive': True}"
      ]
     },
     "execution_count": 77,
     "metadata": {},
     "output_type": "execute_result"
    }
   ],
   "source": [
    "gs = GridSearchCV(pipe ,params, n_jobs=-1)\n",
    "gs.fit(X_train, y_train)\n",
    "gs.best_params_"
   ]
  },
  {
   "cell_type": "code",
   "execution_count": 78,
   "id": "7d3d72d6-1c3c-4657-8a09-2606a1e6feeb",
   "metadata": {},
   "outputs": [
    {
     "data": {
      "text/plain": [
       "0.9286982328434805"
      ]
     },
     "execution_count": 78,
     "metadata": {},
     "output_type": "execute_result"
    }
   ],
   "source": [
    "gs.score(X_train, y_train)"
   ]
  },
  {
   "cell_type": "code",
   "execution_count": 79,
   "id": "42b6d695-7a7d-4581-9aa7-8346f1cd9220",
   "metadata": {},
   "outputs": [
    {
     "data": {
      "text/plain": [
       "0.9174141511667626"
      ]
     },
     "execution_count": 79,
     "metadata": {},
     "output_type": "execute_result"
    }
   ],
   "source": [
    "gs.score(X_test, y_test)"
   ]
  },
  {
   "cell_type": "code",
   "execution_count": 80,
   "id": "51e3edf1-aea9-402e-a8d8-1b7db026912b",
   "metadata": {},
   "outputs": [
    {
     "data": {
      "text/plain": [
       "22743.928417318137"
      ]
     },
     "execution_count": 80,
     "metadata": {},
     "output_type": "execute_result"
    }
   ],
   "source": [
    "mean_squared_error(y_test, gs.predict(X_test), squared= False)"
   ]
  },
  {
   "cell_type": "code",
   "execution_count": 81,
   "id": "edc1b151-8488-4717-aee4-2b9e4569348c",
   "metadata": {},
   "outputs": [
    {
     "data": {
      "text/plain": [
       "0.9129362848486124"
      ]
     },
     "execution_count": 81,
     "metadata": {},
     "output_type": "execute_result"
    }
   ],
   "source": [
    "cross_val_score(gs, X, y, cv=5).mean()"
   ]
  },
  {
   "cell_type": "markdown",
   "id": "496b842e-435c-41c5-b1ba-c13a44513e43",
   "metadata": {},
   "source": [
    "----------\n",
    "# The Summary  "
   ]
  },
  {
   "cell_type": "markdown",
   "id": "d52a8cbf-60c9-41b9-a8a7-02355c0af7c7",
   "metadata": {},
   "source": [
    "| Syntax        | Linear Regression | Lasso Regression | Ridge Regression | GS Lasso | GS Ridge |\n",
    "| -----------   | ----------------- | ---------------- | ---------------- |----------|----------|\n",
    "| r2 train      | 0.935             |   0.935          |  0.935           |   0.927  |  0.929   |\n",
    "| r2 test       | 0.914             |  0.914           |  0.914           |   0.919  |  0.917   |\n",
    "| Mean Crossval |     0.909         |       0.909      |     0.91         |   0.914  |   0.913  |\n",
    "|  RMSE         |   23218           |    23218         |   23211          |   22512  |  22743   |"
   ]
  },
  {
   "cell_type": "markdown",
   "id": "221520a1-1538-4371-8440-c30fd20a1ee9",
   "metadata": {},
   "source": [
    "* The Linear Regression model performed the worst across all fields among all the models\n",
    "* The grid searched Lasso and Ridge models performed the best. They had a lower RMSE and higher cross_val_score\n",
    "--------------"
   ]
  },
  {
   "cell_type": "markdown",
   "id": "c9576e69-4fea-492a-aab1-c1b8ff5ee45b",
   "metadata": {},
   "source": [
    "### Using Boosted Algorithms"
   ]
  },
  {
   "cell_type": "code",
   "execution_count": 46,
   "id": "eb2a6871-7f83-468b-8651-26a7378b9faa",
   "metadata": {},
   "outputs": [
    {
     "data": {
      "text/plain": [
       "0.972447248976133"
      ]
     },
     "execution_count": 46,
     "metadata": {},
     "output_type": "execute_result"
    }
   ],
   "source": [
    "pipe = make_pipeline(\n",
    "\n",
    "    ct,\n",
    "    StandardScaler(),\n",
    "    GradientBoostingRegressor()\n",
    "    \n",
    ")\n",
    "pipe.fit(X_train, y_train)\n",
    "pipe.score(X_train, y_train)"
   ]
  },
  {
   "cell_type": "code",
   "execution_count": 47,
   "id": "461b3758-9fc5-4e48-afe4-cb1ea66f9c26",
   "metadata": {},
   "outputs": [
    {
     "data": {
      "text/plain": [
       "0.9229257528314017"
      ]
     },
     "execution_count": 47,
     "metadata": {},
     "output_type": "execute_result"
    }
   ],
   "source": [
    "pipe.score(X_test, y_test)"
   ]
  },
  {
   "cell_type": "code",
   "execution_count": 48,
   "id": "1cce575e-87a5-4e61-9374-137fc32ef097",
   "metadata": {},
   "outputs": [
    {
     "data": {
      "text/plain": [
       "22493.170936650575"
      ]
     },
     "execution_count": 48,
     "metadata": {},
     "output_type": "execute_result"
    }
   ],
   "source": [
    "mean_squared_error(y_test, pipe.predict(X_test), squared= False)"
   ]
  },
  {
   "cell_type": "code",
   "execution_count": 25,
   "id": "25b33bb0-d4e0-44db-96c7-de52043db0cc",
   "metadata": {},
   "outputs": [
    {
     "data": {
      "text/plain": [
       "0.9423540743504398"
      ]
     },
     "execution_count": 25,
     "metadata": {},
     "output_type": "execute_result"
    }
   ],
   "source": [
    "cross_val_score(pipe, X, y, cv=5).mean()"
   ]
  },
  {
   "cell_type": "code",
   "execution_count": 26,
   "id": "82cb31da-d2ff-43ec-95b7-dc0eeab7f392",
   "metadata": {},
   "outputs": [],
   "source": [
    "params = {\n",
    "    'gradientboostingregressor__learning_rate': [.05, 0.1],\n",
    "    'gradientboostingregressor__n_estimators': [1000, 2000],\n",
    "    'gradientboostingregressor__max_depth': [3, 4, 5],\n",
    "    'gradientboostingregressor__min_samples_leaf': [10, 15],\n",
    "    'gradientboostingregressor__min_samples_split': [5, 10, 20]\n",
    "}"
   ]
  },
  {
   "cell_type": "code",
   "execution_count": 27,
   "id": "7996a397-c4f5-43bb-9c76-f69e6c750297",
   "metadata": {},
   "outputs": [
    {
     "data": {
      "text/plain": [
       "{'gradientboostingregressor__alpha': 0.9,\n",
       " 'gradientboostingregressor__learning_rate': 0.05,\n",
       " 'gradientboostingregressor__max_depth': 3,\n",
       " 'gradientboostingregressor__n_estimators': 1000}"
      ]
     },
     "execution_count": 27,
     "metadata": {},
     "output_type": "execute_result"
    }
   ],
   "source": [
    "gs = GridSearchCV(pipe ,params, n_jobs=-1)\n",
    "gs.fit(X_train, y_train)\n",
    "gs.best_params_"
   ]
  },
  {
   "cell_type": "code",
   "execution_count": 28,
   "id": "8c09ff09-5418-4402-9f74-bdbd393dffa0",
   "metadata": {},
   "outputs": [
    {
     "data": {
      "text/plain": [
       "0.9762195632424875"
      ]
     },
     "execution_count": 28,
     "metadata": {},
     "output_type": "execute_result"
    }
   ],
   "source": [
    "gs.score(X_train, y_train)"
   ]
  },
  {
   "cell_type": "code",
   "execution_count": 29,
   "id": "b711000c-69f1-4af0-af3c-806ad35f4844",
   "metadata": {},
   "outputs": [
    {
     "data": {
      "text/plain": [
       "0.9436804679753588"
      ]
     },
     "execution_count": 29,
     "metadata": {},
     "output_type": "execute_result"
    }
   ],
   "source": [
    "gs.score(X_test, y_test)"
   ]
  },
  {
   "cell_type": "code",
   "execution_count": 30,
   "id": "8d8a1701-dbdd-4e0d-9684-29f3e36f924f",
   "metadata": {},
   "outputs": [
    {
     "data": {
      "text/plain": [
       "19227.621161670588"
      ]
     },
     "execution_count": 30,
     "metadata": {},
     "output_type": "execute_result"
    }
   ],
   "source": [
    "mean_squared_error(y_test, gs.predict(X_test), squared= False)"
   ]
  },
  {
   "cell_type": "markdown",
   "id": "bbc4d5aa-7f23-4fd4-8c02-8f17a4185502",
   "metadata": {},
   "source": [
    "## Predicted Price vs True Price"
   ]
  },
  {
   "cell_type": "code",
   "execution_count": 40,
   "id": "4b3f3f5f-ba10-4473-aa5b-b0576b59a67b",
   "metadata": {},
   "outputs": [
    {
     "data": {
      "image/png": "[encoded data removed]",
      "text/plain": [
       "<Figure size 720x504 with 1 Axes>"
      ]
     },
     "metadata": {
      "needs_background": "light"
     },
     "output_type": "display_data"
    }
   ],
   "source": [
    "plt.figure(figsize=(10, 7))\n",
    "plt.title(\"Predicted Sale Price vs. Actual Sale Price\")\n",
    "sns.scatterplot(y_test , gs.predict(X_test), color='steelblue')\n",
    "plt.plot([0,y_test.max()], [0,y_test.max()], color = \"r\");"
   ]
  },
  {
   "cell_type": "markdown",
   "id": "1b42e99b-ada2-4392-92cf-3d8ba91c4aa4",
   "metadata": {},
   "source": [
    "## Plotting the residuals"
   ]
  },
  {
   "cell_type": "code",
   "execution_count": 41,
   "id": "b7144b26-d24b-47b2-a49b-a417e098fe49",
   "metadata": {},
   "outputs": [
    {
     "data": {
      "image/png": "[encoded data removed]",
      "text/plain": [
       "<Figure size 720x504 with 1 Axes>"
      ]
     },
     "metadata": {
      "needs_background": "light"
     },
     "output_type": "display_data"
    }
   ],
   "source": [
    "plt.figure(figsize=(10, 7))\n",
    "resids = gs.predict(X_test) - y_test\n",
    "sns.scatterplot(range(len(y_test)), resids, color='steelblue');\n",
    "\n",
    "plt.axhline(0, color = \"r\");"
   ]
  },
  {
   "cell_type": "code",
   "execution_count": 45,
   "id": "1dde2784-07ad-4e61-b8d6-e7b1aa9bc773",
   "metadata": {},
   "outputs": [
    {
     "data": {
      "image/png": "[encoded data removed]",
      "text/plain": [
       "<Figure size 432x288 with 1 Axes>"
      ]
     },
     "metadata": {
      "needs_background": "light"
     },
     "output_type": "display_data"
    }
   ],
   "source": [
    "plt.title(\"Residuals Distribution\")\n",
    "sns.histplot(resids, color = \"steelblue\", bins=20);"
   ]
  },
  {
   "cell_type": "markdown",
   "id": "9c8a5550-62ca-4317-8ee2-399ea3bb53f5",
   "metadata": {},
   "source": [
    "-----\n",
    "# Future Improvements\n",
    "\n",
    "1) Look into feature engineering, like getting the house age, renovation age, or looking into the house condition / quality\n",
    "2) Remove some features. The model was overfit so removing some features may help\n",
    "3) See what is causing the model to underestimate the house price"
   ]
  }
 ],
 "metadata": {
  "kernelspec": {
   "display_name": "Python 3",
   "language": "python",
   "name": "python3"
  },
  "language_info": {
   "codemirror_mode": {
    "name": "ipython",
    "version": 3
   },
   "file_extension": ".py",
   "mimetype": "text/x-python",
   "name": "python",
   "nbconvert_exporter": "python",
   "pygments_lexer": "ipython3",
   "version": "3.8.8"
  }
 },
 "nbformat": 4,
 "nbformat_minor": 5
}
